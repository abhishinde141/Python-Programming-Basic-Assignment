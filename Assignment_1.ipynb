{
 "cells": [
  {
   "cell_type": "markdown",
   "id": "c330a317",
   "metadata": {},
   "source": [
    "## 1.\tWrite a Python program to print \"Hello Python\"?"
   ]
  },
  {
   "cell_type": "code",
   "execution_count": 2,
   "id": "2778dfb2",
   "metadata": {},
   "outputs": [
    {
     "name": "stdout",
     "output_type": "stream",
     "text": [
      "Hello Python\n"
     ]
    }
   ],
   "source": [
    "print(\"Hello Python\")"
   ]
  },
  {
   "cell_type": "markdown",
   "id": "a45a9fef",
   "metadata": {},
   "source": [
    "## 2.\tWrite a Python program to do arithmetical operations addition and division.?"
   ]
  },
  {
   "cell_type": "code",
   "execution_count": 20,
   "id": "a4f456d3",
   "metadata": {},
   "outputs": [
    {
     "name": "stdout",
     "output_type": "stream",
     "text": [
      "Enter first number: 54\n",
      "Enter second number: 6\n",
      "Addition: 60 and Division: 9.0\n"
     ]
    }
   ],
   "source": [
    "num1 = int(input('Enter first number: '))\n",
    "num2 = int(input('Enter second number: '))\n",
    "\n",
    "def add(a,b):\n",
    "    return a+b\n",
    "def div(a,b):\n",
    "    try:\n",
    "        return a/b\n",
    "    except Exception as e:\n",
    "        print(f\"Error : {e}\")\n",
    "        \n",
    "print(f\"Addition: {add(num1,num2)} and Division: {div(num1,num2)}\")\n",
    "        "
   ]
  },
  {
   "cell_type": "markdown",
   "id": "dd161c48",
   "metadata": {},
   "source": [
    "## 3.\tWrite a Python program to find the area of a triangle?"
   ]
  },
  {
   "cell_type": "code",
   "execution_count": 19,
   "id": "37a36e06",
   "metadata": {},
   "outputs": [
    {
     "name": "stdout",
     "output_type": "stream",
     "text": [
      "Enter sides of triangle separated by space: 5 4 3\n",
      "Area of triangle: 6.0\n"
     ]
    }
   ],
   "source": [
    "x,y,z=map(float,input(\"Enter sides of triangle separated by space: \").split())\n",
    "def a_of_tri(a,b,c):\n",
    "    \n",
    "    #calculate the semi-perimeter\n",
    "    s=(a+b+c)/2\n",
    "    \n",
    "    #calculate the area\n",
    "    a=(s*(s-a)*(s-b)*(s-c))**0.5\n",
    "    \n",
    "    return a\n",
    "\n",
    "print(f\"Area of triangle: {a_of_tri(x,y,z)}\")\n",
    "    "
   ]
  },
  {
   "cell_type": "markdown",
   "id": "5f1053f7",
   "metadata": {},
   "source": [
    "## 4.\tWrite a Python program to swap two variables?"
   ]
  },
  {
   "cell_type": "code",
   "execution_count": 24,
   "id": "6e42d6d7",
   "metadata": {},
   "outputs": [
    {
     "name": "stdout",
     "output_type": "stream",
     "text": [
      "Enter the value of x: 5\n",
      "Enter the value of y: 4\n",
      "Before swaping:\n",
      "Value of x: 5 and value of y: 4\n",
      "After swaping:\n",
      "Value of x: 4 and value of y: 5\n"
     ]
    }
   ],
   "source": [
    "#method 1 using temp variable\n",
    "x=input(\"Enter the value of x: \")\n",
    "y=input(\"Enter the value of y: \")\n",
    "print(\"Before swaping:\")\n",
    "print(f\"Value of x: {x} and value of y: {y}\")\n",
    "def swap(a,b):\n",
    "    temp=a\n",
    "    a=b\n",
    "    b=temp\n",
    "    return a,b\n",
    "x,y=swap(x,y)\n",
    "print(\"After swaping:\")\n",
    "print(f\"Value of x: {x} and value of y: {y}\")"
   ]
  },
  {
   "cell_type": "code",
   "execution_count": 25,
   "id": "b8eb8c57",
   "metadata": {},
   "outputs": [
    {
     "name": "stdout",
     "output_type": "stream",
     "text": [
      "Enter the value of x: 5\n",
      "Enter the value of y: 4\n",
      "Before swaping:\n",
      "Value of x: 5 and value of y: 4\n",
      "After swaping:\n",
      "Value of x: 4 and value of y: 5\n"
     ]
    }
   ],
   "source": [
    "#method 2\n",
    "x=input(\"Enter the value of x: \")\n",
    "y=input(\"Enter the value of y: \")\n",
    "print(\"Before swaping:\")\n",
    "print(f\"Value of x: {x} and value of y: {y}\")\n",
    "def swap(a,b):\n",
    "    a,b=b,a\n",
    "    return a,b\n",
    "x,y=swap(x,y)\n",
    "print(\"After swaping:\")\n",
    "print(f\"Value of x: {x} and value of y: {y}\")"
   ]
  },
  {
   "cell_type": "markdown",
   "id": "14bb6f00",
   "metadata": {},
   "source": [
    "## 5.\tWrite a Python program to generate a random number?"
   ]
  },
  {
   "cell_type": "code",
   "execution_count": 39,
   "id": "8a4ed140",
   "metadata": {},
   "outputs": [
    {
     "name": "stdout",
     "output_type": "stream",
     "text": [
      "0.2923432793062929\n"
     ]
    }
   ],
   "source": [
    "# program to generate random number\n",
    "import random\n",
    "ran=random.random()\n",
    "print(ran)"
   ]
  },
  {
   "cell_type": "code",
   "execution_count": 41,
   "id": "6aae3da8",
   "metadata": {},
   "outputs": [
    {
     "name": "stdout",
     "output_type": "stream",
     "text": [
      "40\n"
     ]
    }
   ],
   "source": [
    "# program to generate random number\n",
    "import random\n",
    "ran=random.randint(0,50)\n",
    "print(ran)"
   ]
  }
 ],
 "metadata": {
  "kernelspec": {
   "display_name": "Python 3 (ipykernel)",
   "language": "python",
   "name": "python3"
  },
  "language_info": {
   "codemirror_mode": {
    "name": "ipython",
    "version": 3
   },
   "file_extension": ".py",
   "mimetype": "text/x-python",
   "name": "python",
   "nbconvert_exporter": "python",
   "pygments_lexer": "ipython3",
   "version": "3.9.7"
  }
 },
 "nbformat": 4,
 "nbformat_minor": 5
}
